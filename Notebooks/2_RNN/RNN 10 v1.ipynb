{
 "cells": [
  {
   "cell_type": "code",
   "execution_count": 1,
   "id": "0930ffee-0e72-494f-b3fd-907702a2f2a4",
   "metadata": {},
   "outputs": [],
   "source": [
    "import pandas as pd\n",
    "import numpy as np\n",
    "import matplotlib.pyplot as plt\n",
    "\n",
    "from tqdm import tqdm\n",
    "import ast\n",
    "\n",
    "from multiprocessing import Pool"
   ]
  },
  {
   "cell_type": "code",
   "execution_count": 2,
   "id": "39bfe116-9713-4361-8063-fd77a177d6dd",
   "metadata": {},
   "outputs": [],
   "source": [
    "import tensorflow as tf\n",
    "from tensorflow import keras\n",
    "\n",
    "\n",
    "from tensorflow.keras.layers import Dense, Input, LSTM, GRU, Flatten, Reshape, Dropout, Bidirectional\n",
    "from tensorflow.keras.models import Model\n",
    "from tensorflow.keras.callbacks import ReduceLROnPlateau, ModelCheckpoint \n",
    "from tensorflow.keras.utils import plot_model\n",
    "\n",
    "from tensorflow.keras.optimizers import Adam\n",
    "\n",
    "from tensorflow.keras.losses import MeanSquaredError, CosineSimilarity"
   ]
  },
  {
   "cell_type": "code",
   "execution_count": 3,
   "id": "e71dc026-0a29-4eec-9f57-17a78c549f23",
   "metadata": {},
   "outputs": [
    {
     "name": "stdout",
     "output_type": "stream",
     "text": [
      "Num GPUs Available:  1\n"
     ]
    }
   ],
   "source": [
    "print(\"Num GPUs Available: \", len(tf.config.list_physical_devices('GPU')))"
   ]
  },
  {
   "cell_type": "markdown",
   "id": "b8967344-bc9e-4f13-be79-fd666d579cc2",
   "metadata": {},
   "source": [
    "# Lectura y preprocesado de los datos"
   ]
  },
  {
   "cell_type": "code",
   "execution_count": 4,
   "id": "26394a5b-375b-4b96-bd21-a664a7428d97",
   "metadata": {},
   "outputs": [
    {
     "name": "stdout",
     "output_type": "stream",
     "text": [
      "X shape:\n",
      "(1000000, 10, 64)\n",
      "Y shape:\n",
      "(1000000, 64)\n"
     ]
    }
   ],
   "source": [
    "Y = np.load('../../Data/Y_10.npy')\n",
    "X = np.load('../../Data/X_10.npy')\n",
    "\n",
    "print('X shape:')\n",
    "print(X.shape)\n",
    "\n",
    "print('Y shape:')\n",
    "print(Y.shape)"
   ]
  },
  {
   "cell_type": "code",
   "execution_count": null,
   "id": "80c8006d-3bb4-4a0e-80d6-acdc29dd55ec",
   "metadata": {},
   "outputs": [],
   "source": []
  },
  {
   "cell_type": "code",
   "execution_count": 5,
   "id": "408006b6-1321-4331-be38-0cdd950889d7",
   "metadata": {},
   "outputs": [
    {
     "name": "stdout",
     "output_type": "stream",
     "text": [
      "X train:\n",
      "(900000, 10, 64)\n",
      "Y train:\n",
      "(900000, 64)\n",
      "X val:\n",
      "(100000, 10, 64)\n",
      "Y val:\n",
      "(100000, 64)\n"
     ]
    }
   ],
   "source": [
    "val_size = int(X.shape[0]*0.1) #10%\n",
    "\n",
    "X_train = X[:-val_size,:,:]\n",
    "X_val = X[-val_size:,:,:]\n",
    "\n",
    "Y_train = Y[:-val_size,:]\n",
    "Y_val = Y[-val_size:,:]\n",
    "\n",
    "print('X train:')\n",
    "print(X_train.shape)\n",
    "print('Y train:')\n",
    "print(Y_train.shape)\n",
    "\n",
    "print('X val:')\n",
    "print(X_val.shape)\n",
    "print('Y val:')\n",
    "print(Y_val.shape)"
   ]
  },
  {
   "cell_type": "code",
   "execution_count": null,
   "id": "c5f4fbd7-5c68-4ee9-a301-b0cea09cb574",
   "metadata": {},
   "outputs": [],
   "source": []
  },
  {
   "cell_type": "markdown",
   "id": "28fa5fb6-8257-4003-8ec0-33efd40d535d",
   "metadata": {},
   "source": [
    "# BiLSTM"
   ]
  },
  {
   "cell_type": "code",
   "execution_count": 6,
   "id": "01f93933-38ac-4c5f-a501-e943af25d605",
   "metadata": {},
   "outputs": [],
   "source": [
    "num_units = 16"
   ]
  },
  {
   "cell_type": "code",
   "execution_count": 7,
   "id": "df7468cb-8129-441f-b9c6-aca7b5ab677e",
   "metadata": {},
   "outputs": [
    {
     "name": "stdout",
     "output_type": "stream",
     "text": [
      "Model: \"model_bilstm\"\n",
      "_________________________________________________________________\n",
      "Layer (type)                 Output Shape              Param #   \n",
      "=================================================================\n",
      "Inputs (InputLayer)          [(None, 10, 64)]          0         \n",
      "_________________________________________________________________\n",
      "bidirectional (Bidirectional (None, 10, 32)            10368     \n",
      "_________________________________________________________________\n",
      "bidirectional_1 (Bidirection (None, 32)                6272      \n",
      "_________________________________________________________________\n",
      "Output (Dense)               (None, 64)                2112      \n",
      "=================================================================\n",
      "Total params: 18,752\n",
      "Trainable params: 18,752\n",
      "Non-trainable params: 0\n",
      "_________________________________________________________________\n"
     ]
    }
   ],
   "source": [
    "input_shape = (X_train.shape[1],X_train.shape[2])\n",
    "\n",
    "input_layer = Input(shape= input_shape, name='Inputs')\n",
    "\n",
    "model_layers = Bidirectional(LSTM(units = num_units, return_sequences=True))(input_layer)\n",
    "#model_layers = Bidirectional(LSTM(units = num_units, return_sequences=True))(model_layers)\n",
    "model_layers = Bidirectional(LSTM(units = num_units))(model_layers)\n",
    "\n",
    "\n",
    "model_layers = Dense(Y_train.shape[1], activation='sigmoid', name='Output')(model_layers)\n",
    "\n",
    "model_bilstm = Model(input_layer, model_layers, name ='model_bilstm')\n",
    "model_bilstm.summary()"
   ]
  },
  {
   "cell_type": "markdown",
   "id": "1060eeb0-8e61-4c5f-aa65-d122cb425de7",
   "metadata": {},
   "source": [
    "## Entrenamiento"
   ]
  },
  {
   "cell_type": "code",
   "execution_count": 8,
   "id": "3f38298d-f524-41b3-b1df-3a3668ded9e3",
   "metadata": {},
   "outputs": [],
   "source": [
    "callback = tf.keras.callbacks.EarlyStopping(monitor='val_loss', mode=\"min\", patience=2)"
   ]
  },
  {
   "cell_type": "code",
   "execution_count": 9,
   "id": "8e946d6c-5ff8-45a9-aabf-5554da3f8b7d",
   "metadata": {},
   "outputs": [],
   "source": [
    "optimizer = Adam(learning_rate=1e-3)\n",
    "loss_fn = CosineSimilarity()\n",
    "model_bilstm.compile(optimizer= optimizer, loss = loss_fn)"
   ]
  },
  {
   "cell_type": "code",
   "execution_count": 10,
   "id": "7a5a6f92-cac7-4fbf-8094-ae67c7713915",
   "metadata": {
    "tags": []
   },
   "outputs": [
    {
     "name": "stdout",
     "output_type": "stream",
     "text": [
      "Train on 900000 samples, validate on 100000 samples\n",
      "Epoch 1/5\n",
      "900000/900000 [==============================] - 122s 136us/sample - loss: -0.8586 - val_loss: -0.8626\n",
      "Epoch 2/5\n",
      "900000/900000 [==============================] - 123s 137us/sample - loss: -0.8627 - val_loss: -0.8636\n",
      "Epoch 3/5\n",
      "900000/900000 [==============================] - 123s 137us/sample - loss: -0.8635 - val_loss: -0.8644\n",
      "Epoch 4/5\n",
      "900000/900000 [==============================] - 121s 134us/sample - loss: -0.8639 - val_loss: -0.8645\n",
      "Epoch 5/5\n",
      "900000/900000 [==============================] - 120s 133us/sample - loss: -0.8642 - val_loss: -0.8648\n"
     ]
    }
   ],
   "source": [
    "epochs = 5\n",
    "batch_size = 32\n",
    "\n",
    "history = model_bilstm.fit(X_train, Y_train, validation_data = (X_val, Y_val), epochs = epochs, batch_size=batch_size, callbacks=[callback], verbose=1)"
   ]
  },
  {
   "cell_type": "code",
   "execution_count": 11,
   "id": "6187d5c0-414c-476c-94a4-56c31815404e",
   "metadata": {},
   "outputs": [
    {
     "data": {
      "image/png": "[encoded data removed]",
      "text/plain": [
       "<Figure size 1080x504 with 1 Axes>"
      ]
     },
     "metadata": {
      "needs_background": "light"
     },
     "output_type": "display_data"
    }
   ],
   "source": [
    "plt.figure(figsize=(15,7))\n",
    "plt.plot(history.history['loss'],label='Train loss')\n",
    "plt.plot(history.history['val_loss'],label='Test loss')\n",
    "plt.title('Loss')\n",
    "plt.legend()\n",
    "plt.grid()\n",
    "plt.show()"
   ]
  },
  {
   "cell_type": "code",
   "execution_count": 12,
   "id": "55dac458-f876-474f-aefd-b0f076b428b0",
   "metadata": {},
   "outputs": [
    {
     "name": "stdout",
     "output_type": "stream",
     "text": [
      "WARNING:tensorflow:From C:\\Users\\CRISTIAN\\anaconda3\\envs\\tensorflow23gpu\\lib\\site-packages\\tensorflow_core\\python\\ops\\resource_variable_ops.py:1786: calling BaseResourceVariable.__init__ (from tensorflow.python.ops.resource_variable_ops) with constraint is deprecated and will be removed in a future version.\n",
      "Instructions for updating:\n",
      "If using Keras pass *_constraint arguments to layers.\n",
      "INFO:tensorflow:Assets written to: biLSTM_v1\\assets\n"
     ]
    }
   ],
   "source": [
    "model_bilstm.save('biLSTM_v1')"
   ]
  },
  {
   "cell_type": "code",
   "execution_count": null,
   "id": "85532a67-5c1b-4d11-9fbc-b6445f05ef29",
   "metadata": {},
   "outputs": [],
   "source": []
  },
  {
   "cell_type": "code",
   "execution_count": 13,
   "id": "fa2fe670-0454-4344-b1d9-fffa4cb9546f",
   "metadata": {},
   "outputs": [
    {
     "name": "stderr",
     "output_type": "stream",
     "text": [
      "100%|████████████████████████████████████████████████████████████████████████████| 99999/99999 [18:41<00:00, 89.20it/s]\n"
     ]
    }
   ],
   "source": [
    "predicted_latent_items = model_bilstm(np.float32(X_val[0:1,:,:])).numpy()\n",
    "\n",
    "for i in tqdm(range(1, X_val.shape[0])):\n",
    "    \n",
    "    predicted_item = model_bilstm(np.float32(X_val[i:i+1,:,:])).numpy() \n",
    "    \n",
    "    predicted_latent_items = np.vstack((predicted_latent_items,predicted_item))\n"
   ]
  },
  {
   "cell_type": "code",
   "execution_count": 14,
   "id": "bc43fa34-7449-42b4-bd34-2475e8e36307",
   "metadata": {},
   "outputs": [
    {
     "data": {
      "text/plain": [
       "(100000, 64)"
      ]
     },
     "execution_count": 14,
     "metadata": {},
     "output_type": "execute_result"
    }
   ],
   "source": [
    "predicted_latent_items.shape"
   ]
  },
  {
   "cell_type": "code",
   "execution_count": 16,
   "id": "2d70f60a-16ef-4d48-be63-5c8a0ee624e0",
   "metadata": {},
   "outputs": [
    {
     "data": {
      "text/plain": [
       "array([[0.03001219, 0.02285046, 0.11123247, ..., 0.2174379 , 0.13556367,\n",
       "        0.53428376],\n",
       "       [0.04480297, 0.02056499, 0.65720874, ..., 0.15079445, 0.18790424,\n",
       "        0.8781772 ],\n",
       "       [0.09069615, 0.01689952, 0.46793276, ..., 0.04381172, 0.4438121 ,\n",
       "        0.5558452 ],\n",
       "       ...,\n",
       "       [0.09203291, 0.11657979, 0.01752353, ..., 0.04443192, 0.43023375,\n",
       "        0.26202703],\n",
       "       [0.12116665, 0.12592562, 0.02007756, ..., 0.04895597, 0.23932163,\n",
       "        0.30425912],\n",
       "       [0.04905581, 0.03472475, 0.5129408 , ..., 0.41745433, 0.43666276,\n",
       "        0.6858212 ]], dtype=float32)"
      ]
     },
     "execution_count": 16,
     "metadata": {},
     "output_type": "execute_result"
    }
   ],
   "source": [
    "predicted_latent_items"
   ]
  },
  {
   "cell_type": "code",
   "execution_count": 15,
   "id": "876d050f-615d-47e9-b4ee-a5cf2d693b57",
   "metadata": {},
   "outputs": [],
   "source": [
    "np.save('predicted_val_biLSTM_latent_items', predicted_latent_items)"
   ]
  },
  {
   "cell_type": "code",
   "execution_count": null,
   "id": "8cc0ab9d-5c96-4555-910a-d096b8731dd5",
   "metadata": {},
   "outputs": [],
   "source": []
  },
  {
   "cell_type": "code",
   "execution_count": null,
   "id": "ec03195d-99a9-49da-a752-32617349357e",
   "metadata": {},
   "outputs": [],
   "source": []
  },
  {
   "cell_type": "code",
   "execution_count": null,
   "id": "9fc4fb07-5936-4da2-9395-f44e6ca1be2d",
   "metadata": {},
   "outputs": [],
   "source": []
  },
  {
   "cell_type": "code",
   "execution_count": null,
   "id": "a99d0d06-1ba4-4973-98e2-698ba7029b61",
   "metadata": {},
   "outputs": [],
   "source": []
  },
  {
   "cell_type": "code",
   "execution_count": null,
   "id": "b0196878-7353-4255-a409-4b3c30bebdb1",
   "metadata": {},
   "outputs": [],
   "source": []
  },
  {
   "cell_type": "code",
   "execution_count": null,
   "id": "34f2422f-3244-47fb-86d1-b42cac5cd6c2",
   "metadata": {},
   "outputs": [],
   "source": []
  }
 ],
 "metadata": {
  "kernelspec": {
   "display_name": "Python 3.8 (tensorflow-cpu)",
   "language": "python",
   "name": "tensorflow-cpu"
  },
  "language_info": {
   "codemirror_mode": {
    "name": "ipython",
    "version": 3
   },
   "file_extension": ".py",
   "mimetype": "text/x-python",
   "name": "python",
   "nbconvert_exporter": "python",
   "pygments_lexer": "ipython3",
   "version": "3.8.12"
  }
 },
 "nbformat": 4,
 "nbformat_minor": 5
}
