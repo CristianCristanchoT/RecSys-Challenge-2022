{
 "cells": [
  {
   "cell_type": "code",
   "execution_count": 1,
   "id": "5d3df3e0-729e-4edb-9d04-4edfd295f273",
   "metadata": {},
   "outputs": [],
   "source": [
    "import pandas as pd\n",
    "import numpy as np\n",
    "from tqdm import tqdm\n",
    "import seaborn as sns\n",
    "import matplotlib.pyplot as plt\n",
    "from datetime import datetime"
   ]
  },
  {
   "cell_type": "code",
   "execution_count": 2,
   "id": "e6e125fd-a0a8-4fb8-9377-e8b73ce27009",
   "metadata": {},
   "outputs": [],
   "source": [
    "candidate_items = pd.read_csv('../Data/dressipi_recsys2022/candidate_items.csv')\n",
    "item_features = pd.read_csv('../Data/dressipi_recsys2022/item_features.csv')\n",
    "\n",
    "\n",
    "train_purchases = pd.read_csv('../Data/dressipi_recsys2022/train_purchases.csv')\n",
    "train_sessions = pd.read_csv('../Data/dressipi_recsys2022/train_sessions.csv')"
   ]
  },
  {
   "cell_type": "code",
   "execution_count": null,
   "id": "775cb5fc-56d4-4b0e-8aff-cd77b47aa163",
   "metadata": {},
   "outputs": [],
   "source": []
  },
  {
   "cell_type": "markdown",
   "id": "038ace5f-7d11-4cd7-836b-0ee9f7f9e299",
   "metadata": {},
   "source": [
    "# Sesiones"
   ]
  },
  {
   "cell_type": "code",
   "execution_count": 3,
   "id": "dc4b63b2-1064-4cae-9f06-fae0941afb8c",
   "metadata": {},
   "outputs": [
    {
     "data": {
      "text/html": [
       "<div>\n",
       "<style scoped>\n",
       "    .dataframe tbody tr th:only-of-type {\n",
       "        vertical-align: middle;\n",
       "    }\n",
       "\n",
       "    .dataframe tbody tr th {\n",
       "        vertical-align: top;\n",
       "    }\n",
       "\n",
       "    .dataframe thead th {\n",
       "        text-align: right;\n",
       "    }\n",
       "</style>\n",
       "<table border=\"1\" class=\"dataframe\">\n",
       "  <thead>\n",
       "    <tr style=\"text-align: right;\">\n",
       "      <th></th>\n",
       "      <th>session_id</th>\n",
       "      <th>item_id</th>\n",
       "      <th>date</th>\n",
       "    </tr>\n",
       "  </thead>\n",
       "  <tbody>\n",
       "    <tr>\n",
       "      <th>0</th>\n",
       "      <td>3</td>\n",
       "      <td>9655</td>\n",
       "      <td>2020-12-18 21:25:00.373</td>\n",
       "    </tr>\n",
       "    <tr>\n",
       "      <th>1</th>\n",
       "      <td>3</td>\n",
       "      <td>9655</td>\n",
       "      <td>2020-12-18 21:19:48.093</td>\n",
       "    </tr>\n",
       "    <tr>\n",
       "      <th>2</th>\n",
       "      <td>13</td>\n",
       "      <td>15654</td>\n",
       "      <td>2020-03-13 19:35:27.136</td>\n",
       "    </tr>\n",
       "    <tr>\n",
       "      <th>3</th>\n",
       "      <td>18</td>\n",
       "      <td>18316</td>\n",
       "      <td>2020-08-26 19:18:30.833</td>\n",
       "    </tr>\n",
       "    <tr>\n",
       "      <th>4</th>\n",
       "      <td>18</td>\n",
       "      <td>2507</td>\n",
       "      <td>2020-08-26 19:16:31.211</td>\n",
       "    </tr>\n",
       "    <tr>\n",
       "      <th>...</th>\n",
       "      <td>...</td>\n",
       "      <td>...</td>\n",
       "      <td>...</td>\n",
       "    </tr>\n",
       "    <tr>\n",
       "      <th>4743815</th>\n",
       "      <td>4440001</td>\n",
       "      <td>20409</td>\n",
       "      <td>2020-10-30 23:37:20.658</td>\n",
       "    </tr>\n",
       "    <tr>\n",
       "      <th>4743816</th>\n",
       "      <td>4440001</td>\n",
       "      <td>14155</td>\n",
       "      <td>2020-10-30 23:31:56.607</td>\n",
       "    </tr>\n",
       "    <tr>\n",
       "      <th>4743817</th>\n",
       "      <td>4440001</td>\n",
       "      <td>14303</td>\n",
       "      <td>2020-10-30 23:36:17.934</td>\n",
       "    </tr>\n",
       "    <tr>\n",
       "      <th>4743818</th>\n",
       "      <td>4440001</td>\n",
       "      <td>27852</td>\n",
       "      <td>2020-10-30 23:39:55.186</td>\n",
       "    </tr>\n",
       "    <tr>\n",
       "      <th>4743819</th>\n",
       "      <td>4440001</td>\n",
       "      <td>305</td>\n",
       "      <td>2020-10-30 23:27:37.873</td>\n",
       "    </tr>\n",
       "  </tbody>\n",
       "</table>\n",
       "<p>4743820 rows × 3 columns</p>\n",
       "</div>"
      ],
      "text/plain": [
       "         session_id  item_id                     date\n",
       "0                 3     9655  2020-12-18 21:25:00.373\n",
       "1                 3     9655  2020-12-18 21:19:48.093\n",
       "2                13    15654  2020-03-13 19:35:27.136\n",
       "3                18    18316  2020-08-26 19:18:30.833\n",
       "4                18     2507  2020-08-26 19:16:31.211\n",
       "...             ...      ...                      ...\n",
       "4743815     4440001    20409  2020-10-30 23:37:20.658\n",
       "4743816     4440001    14155  2020-10-30 23:31:56.607\n",
       "4743817     4440001    14303  2020-10-30 23:36:17.934\n",
       "4743818     4440001    27852  2020-10-30 23:39:55.186\n",
       "4743819     4440001      305  2020-10-30 23:27:37.873\n",
       "\n",
       "[4743820 rows x 3 columns]"
      ]
     },
     "execution_count": 3,
     "metadata": {},
     "output_type": "execute_result"
    }
   ],
   "source": [
    "train_sessions"
   ]
  },
  {
   "cell_type": "code",
   "execution_count": 4,
   "id": "73525ac8-a133-4417-bff3-47ed02a6c651",
   "metadata": {},
   "outputs": [
    {
     "name": "stdout",
     "output_type": "stream",
     "text": [
      "Cantidad de sesiones unicas:\n",
      "1000000\n"
     ]
    }
   ],
   "source": [
    "print('Cantidad de sesiones unicas:')\n",
    "print(len(train_sessions.session_id.unique()))"
   ]
  },
  {
   "cell_type": "code",
   "execution_count": 5,
   "id": "d7532c6c-8e5b-471f-b75d-6c4df5b87384",
   "metadata": {},
   "outputs": [
    {
     "name": "stdout",
     "output_type": "stream",
     "text": [
      "Cantidad de items unicos:\n",
      "23496\n"
     ]
    }
   ],
   "source": [
    "print('Cantidad de items unicos:')\n",
    "print(len(train_sessions.item_id.unique()))"
   ]
  },
  {
   "cell_type": "markdown",
   "id": "4f8b19fa-e9d5-4690-9350-2ac89ad7d748",
   "metadata": {},
   "source": [
    "## Cantidad de vistas por sesion"
   ]
  },
  {
   "cell_type": "raw",
   "id": "2e21d812-7665-4eea-b73a-2dc59224cbac",
   "metadata": {},
   "source": [
    "cantidad_de_vistas_sesion = []\n",
    "\n",
    "for sesion in tqdm(train_sessions.session_id.unique()):\n",
    "    \n",
    "    vistas_de_la_sesion = train_sessions.loc[train_sessions.session_id == sesion]\n",
    "    cantidad_de_vistas_sesion.append(vistas_de_la_sesion.shape[0])"
   ]
  },
  {
   "cell_type": "code",
   "execution_count": 6,
   "id": "f29c38df-4887-406d-935d-c67f340433a0",
   "metadata": {},
   "outputs": [],
   "source": [
    "cantidad_de_vistas_sesion = train_sessions\\\n",
    "    .groupby(['session_id'], as_index=False)['item_id'].count()\\\n",
    "    .sort_values(by='session_id', ascending=True)\\\n",
    "    .rename(columns={'item_id': 'vistas_sesion'})\\\n",
    "    .reset_index(drop=True)"
   ]
  },
  {
   "cell_type": "code",
   "execution_count": 7,
   "id": "6c30c890-1499-4126-a704-b92640e74284",
   "metadata": {},
   "outputs": [
    {
     "data": {
      "text/html": [
       "<div>\n",
       "<style scoped>\n",
       "    .dataframe tbody tr th:only-of-type {\n",
       "        vertical-align: middle;\n",
       "    }\n",
       "\n",
       "    .dataframe tbody tr th {\n",
       "        vertical-align: top;\n",
       "    }\n",
       "\n",
       "    .dataframe thead th {\n",
       "        text-align: right;\n",
       "    }\n",
       "</style>\n",
       "<table border=\"1\" class=\"dataframe\">\n",
       "  <thead>\n",
       "    <tr style=\"text-align: right;\">\n",
       "      <th></th>\n",
       "      <th>session_id</th>\n",
       "      <th>vistas_sesion</th>\n",
       "    </tr>\n",
       "  </thead>\n",
       "  <tbody>\n",
       "    <tr>\n",
       "      <th>0</th>\n",
       "      <td>3</td>\n",
       "      <td>2</td>\n",
       "    </tr>\n",
       "    <tr>\n",
       "      <th>1</th>\n",
       "      <td>13</td>\n",
       "      <td>1</td>\n",
       "    </tr>\n",
       "    <tr>\n",
       "      <th>2</th>\n",
       "      <td>18</td>\n",
       "      <td>3</td>\n",
       "    </tr>\n",
       "    <tr>\n",
       "      <th>3</th>\n",
       "      <td>19</td>\n",
       "      <td>17</td>\n",
       "    </tr>\n",
       "    <tr>\n",
       "      <th>4</th>\n",
       "      <td>24</td>\n",
       "      <td>9</td>\n",
       "    </tr>\n",
       "    <tr>\n",
       "      <th>...</th>\n",
       "      <td>...</td>\n",
       "      <td>...</td>\n",
       "    </tr>\n",
       "    <tr>\n",
       "      <th>999995</th>\n",
       "      <td>4439986</td>\n",
       "      <td>6</td>\n",
       "    </tr>\n",
       "    <tr>\n",
       "      <th>999996</th>\n",
       "      <td>4439990</td>\n",
       "      <td>11</td>\n",
       "    </tr>\n",
       "    <tr>\n",
       "      <th>999997</th>\n",
       "      <td>4439994</td>\n",
       "      <td>1</td>\n",
       "    </tr>\n",
       "    <tr>\n",
       "      <th>999998</th>\n",
       "      <td>4439999</td>\n",
       "      <td>7</td>\n",
       "    </tr>\n",
       "    <tr>\n",
       "      <th>999999</th>\n",
       "      <td>4440001</td>\n",
       "      <td>19</td>\n",
       "    </tr>\n",
       "  </tbody>\n",
       "</table>\n",
       "<p>1000000 rows × 2 columns</p>\n",
       "</div>"
      ],
      "text/plain": [
       "        session_id  vistas_sesion\n",
       "0                3              2\n",
       "1               13              1\n",
       "2               18              3\n",
       "3               19             17\n",
       "4               24              9\n",
       "...            ...            ...\n",
       "999995     4439986              6\n",
       "999996     4439990             11\n",
       "999997     4439994              1\n",
       "999998     4439999              7\n",
       "999999     4440001             19\n",
       "\n",
       "[1000000 rows x 2 columns]"
      ]
     },
     "execution_count": 7,
     "metadata": {},
     "output_type": "execute_result"
    }
   ],
   "source": [
    "cantidad_de_vistas_sesion"
   ]
  },
  {
   "cell_type": "code",
   "execution_count": 8,
   "id": "caedd15c-784e-44d5-bfd4-89cbc9f8e9f9",
   "metadata": {},
   "outputs": [
    {
     "data": {
      "text/plain": [
       "count    1000000.000000\n",
       "mean           4.743820\n",
       "std            6.084665\n",
       "min            1.000000\n",
       "25%            1.000000\n",
       "50%            3.000000\n",
       "75%            6.000000\n",
       "max          100.000000\n",
       "Name: vistas_sesion, dtype: float64"
      ]
     },
     "execution_count": 8,
     "metadata": {},
     "output_type": "execute_result"
    }
   ],
   "source": [
    "cantidad_de_vistas_sesion.vistas_sesion.describe()"
   ]
  },
  {
   "cell_type": "code",
   "execution_count": 9,
   "id": "4c0fdd3d-7108-4a37-a151-d873c4f78856",
   "metadata": {},
   "outputs": [
    {
     "data": {
      "image/png": "[encoded data removed]",
      "text/plain": [
       "<Figure size 1440x576 with 1 Axes>"
      ]
     },
     "metadata": {
      "needs_background": "light"
     },
     "output_type": "display_data"
    }
   ],
   "source": [
    "plt.figure(figsize=(20,8))\n",
    "Plot = sns.histplot(cantidad_de_vistas_sesion[\"vistas_sesion\"], bins = 100)"
   ]
  },
  {
   "cell_type": "code",
   "execution_count": null,
   "id": "c745d9e7-d934-4f0c-9bde-96449368b48f",
   "metadata": {},
   "outputs": [],
   "source": []
  },
  {
   "cell_type": "markdown",
   "id": "e238949e-1264-4ec2-a78f-d96cc5218463",
   "metadata": {},
   "source": [
    "# Compras"
   ]
  },
  {
   "cell_type": "code",
   "execution_count": 10,
   "id": "a74d1bd8-1a6c-49b0-8f78-995042a878c3",
   "metadata": {},
   "outputs": [
    {
     "data": {
      "text/html": [
       "<div>\n",
       "<style scoped>\n",
       "    .dataframe tbody tr th:only-of-type {\n",
       "        vertical-align: middle;\n",
       "    }\n",
       "\n",
       "    .dataframe tbody tr th {\n",
       "        vertical-align: top;\n",
       "    }\n",
       "\n",
       "    .dataframe thead th {\n",
       "        text-align: right;\n",
       "    }\n",
       "</style>\n",
       "<table border=\"1\" class=\"dataframe\">\n",
       "  <thead>\n",
       "    <tr style=\"text-align: right;\">\n",
       "      <th></th>\n",
       "      <th>session_id</th>\n",
       "      <th>item_id</th>\n",
       "      <th>date</th>\n",
       "    </tr>\n",
       "  </thead>\n",
       "  <tbody>\n",
       "    <tr>\n",
       "      <th>0</th>\n",
       "      <td>3</td>\n",
       "      <td>15085</td>\n",
       "      <td>2020-12-18 21:26:47.986</td>\n",
       "    </tr>\n",
       "    <tr>\n",
       "      <th>1</th>\n",
       "      <td>13</td>\n",
       "      <td>18626</td>\n",
       "      <td>2020-03-13 19:36:15.507</td>\n",
       "    </tr>\n",
       "    <tr>\n",
       "      <th>2</th>\n",
       "      <td>18</td>\n",
       "      <td>24911</td>\n",
       "      <td>2020-08-26 19:20:32.049</td>\n",
       "    </tr>\n",
       "    <tr>\n",
       "      <th>3</th>\n",
       "      <td>19</td>\n",
       "      <td>12534</td>\n",
       "      <td>2020-11-02 17:16:45.92</td>\n",
       "    </tr>\n",
       "    <tr>\n",
       "      <th>4</th>\n",
       "      <td>24</td>\n",
       "      <td>13226</td>\n",
       "      <td>2020-02-26 18:27:44.114</td>\n",
       "    </tr>\n",
       "    <tr>\n",
       "      <th>...</th>\n",
       "      <td>...</td>\n",
       "      <td>...</td>\n",
       "      <td>...</td>\n",
       "    </tr>\n",
       "    <tr>\n",
       "      <th>999995</th>\n",
       "      <td>4439986</td>\n",
       "      <td>2915</td>\n",
       "      <td>2021-05-13 11:56:37.464</td>\n",
       "    </tr>\n",
       "    <tr>\n",
       "      <th>999996</th>\n",
       "      <td>4439990</td>\n",
       "      <td>8786</td>\n",
       "      <td>2020-08-22 14:28:22.382</td>\n",
       "    </tr>\n",
       "    <tr>\n",
       "      <th>999997</th>\n",
       "      <td>4439994</td>\n",
       "      <td>21630</td>\n",
       "      <td>2020-11-27 20:10:28.961</td>\n",
       "    </tr>\n",
       "    <tr>\n",
       "      <th>999998</th>\n",
       "      <td>4439999</td>\n",
       "      <td>16962</td>\n",
       "      <td>2020-11-27 11:01:41.356</td>\n",
       "    </tr>\n",
       "    <tr>\n",
       "      <th>999999</th>\n",
       "      <td>4440001</td>\n",
       "      <td>16631</td>\n",
       "      <td>2020-10-30 23:46:05.218</td>\n",
       "    </tr>\n",
       "  </tbody>\n",
       "</table>\n",
       "<p>1000000 rows × 3 columns</p>\n",
       "</div>"
      ],
      "text/plain": [
       "        session_id  item_id                     date\n",
       "0                3    15085  2020-12-18 21:26:47.986\n",
       "1               13    18626  2020-03-13 19:36:15.507\n",
       "2               18    24911  2020-08-26 19:20:32.049\n",
       "3               19    12534   2020-11-02 17:16:45.92\n",
       "4               24    13226  2020-02-26 18:27:44.114\n",
       "...            ...      ...                      ...\n",
       "999995     4439986     2915  2021-05-13 11:56:37.464\n",
       "999996     4439990     8786  2020-08-22 14:28:22.382\n",
       "999997     4439994    21630  2020-11-27 20:10:28.961\n",
       "999998     4439999    16962  2020-11-27 11:01:41.356\n",
       "999999     4440001    16631  2020-10-30 23:46:05.218\n",
       "\n",
       "[1000000 rows x 3 columns]"
      ]
     },
     "execution_count": 10,
     "metadata": {},
     "output_type": "execute_result"
    }
   ],
   "source": [
    "train_purchases"
   ]
  },
  {
   "cell_type": "code",
   "execution_count": 11,
   "id": "0c2e0fc1-8cb7-47f8-b4c8-cf7d2cc095ff",
   "metadata": {},
   "outputs": [
    {
     "name": "stdout",
     "output_type": "stream",
     "text": [
      "Cantidad de sesiones unicas:\n",
      "1000000\n"
     ]
    }
   ],
   "source": [
    "print('Cantidad de sesiones unicas:')\n",
    "print(len(train_purchases.session_id.unique()))"
   ]
  },
  {
   "cell_type": "code",
   "execution_count": 12,
   "id": "6a30354f-790b-4aef-9ca2-1781f05db3cd",
   "metadata": {},
   "outputs": [
    {
     "name": "stdout",
     "output_type": "stream",
     "text": [
      "Cantidad de items unicos:\n",
      "18907\n"
     ]
    }
   ],
   "source": [
    "print('Cantidad de items unicos:')\n",
    "print(len(train_purchases.item_id.unique()))"
   ]
  },
  {
   "cell_type": "markdown",
   "id": "359b8284-a250-4217-8e4f-54b8825579ba",
   "metadata": {},
   "source": [
    "# Caracteristicas de los items"
   ]
  },
  {
   "cell_type": "code",
   "execution_count": 13,
   "id": "3a99d148-c95f-48ee-9551-b84cd69e2e24",
   "metadata": {},
   "outputs": [
    {
     "data": {
      "text/html": [
       "<div>\n",
       "<style scoped>\n",
       "    .dataframe tbody tr th:only-of-type {\n",
       "        vertical-align: middle;\n",
       "    }\n",
       "\n",
       "    .dataframe tbody tr th {\n",
       "        vertical-align: top;\n",
       "    }\n",
       "\n",
       "    .dataframe thead th {\n",
       "        text-align: right;\n",
       "    }\n",
       "</style>\n",
       "<table border=\"1\" class=\"dataframe\">\n",
       "  <thead>\n",
       "    <tr style=\"text-align: right;\">\n",
       "      <th></th>\n",
       "      <th>item_id</th>\n",
       "      <th>feature_category_id</th>\n",
       "      <th>feature_value_id</th>\n",
       "    </tr>\n",
       "  </thead>\n",
       "  <tbody>\n",
       "    <tr>\n",
       "      <th>0</th>\n",
       "      <td>2</td>\n",
       "      <td>56</td>\n",
       "      <td>365</td>\n",
       "    </tr>\n",
       "    <tr>\n",
       "      <th>1</th>\n",
       "      <td>2</td>\n",
       "      <td>62</td>\n",
       "      <td>801</td>\n",
       "    </tr>\n",
       "    <tr>\n",
       "      <th>2</th>\n",
       "      <td>2</td>\n",
       "      <td>68</td>\n",
       "      <td>351</td>\n",
       "    </tr>\n",
       "    <tr>\n",
       "      <th>3</th>\n",
       "      <td>2</td>\n",
       "      <td>33</td>\n",
       "      <td>802</td>\n",
       "    </tr>\n",
       "    <tr>\n",
       "      <th>4</th>\n",
       "      <td>2</td>\n",
       "      <td>72</td>\n",
       "      <td>75</td>\n",
       "    </tr>\n",
       "    <tr>\n",
       "      <th>...</th>\n",
       "      <td>...</td>\n",
       "      <td>...</td>\n",
       "      <td>...</td>\n",
       "    </tr>\n",
       "    <tr>\n",
       "      <th>471746</th>\n",
       "      <td>28143</td>\n",
       "      <td>68</td>\n",
       "      <td>351</td>\n",
       "    </tr>\n",
       "    <tr>\n",
       "      <th>471747</th>\n",
       "      <td>28143</td>\n",
       "      <td>55</td>\n",
       "      <td>390</td>\n",
       "    </tr>\n",
       "    <tr>\n",
       "      <th>471748</th>\n",
       "      <td>28143</td>\n",
       "      <td>11</td>\n",
       "      <td>109</td>\n",
       "    </tr>\n",
       "    <tr>\n",
       "      <th>471749</th>\n",
       "      <td>28143</td>\n",
       "      <td>73</td>\n",
       "      <td>91</td>\n",
       "    </tr>\n",
       "    <tr>\n",
       "      <th>471750</th>\n",
       "      <td>28143</td>\n",
       "      <td>47</td>\n",
       "      <td>549</td>\n",
       "    </tr>\n",
       "  </tbody>\n",
       "</table>\n",
       "<p>471751 rows × 3 columns</p>\n",
       "</div>"
      ],
      "text/plain": [
       "        item_id  feature_category_id  feature_value_id\n",
       "0             2                   56               365\n",
       "1             2                   62               801\n",
       "2             2                   68               351\n",
       "3             2                   33               802\n",
       "4             2                   72                75\n",
       "...         ...                  ...               ...\n",
       "471746    28143                   68               351\n",
       "471747    28143                   55               390\n",
       "471748    28143                   11               109\n",
       "471749    28143                   73                91\n",
       "471750    28143                   47               549\n",
       "\n",
       "[471751 rows x 3 columns]"
      ]
     },
     "execution_count": 13,
     "metadata": {},
     "output_type": "execute_result"
    }
   ],
   "source": [
    "item_features"
   ]
  },
  {
   "cell_type": "code",
   "execution_count": 14,
   "id": "94213a4b-9e55-441d-b7a5-d6016c3b20bd",
   "metadata": {},
   "outputs": [
    {
     "name": "stdout",
     "output_type": "stream",
     "text": [
      "Cantidad de items unicos:\n",
      "23691\n"
     ]
    }
   ],
   "source": [
    "print('Cantidad de items unicos:')\n",
    "print(len(item_features.item_id.unique()))"
   ]
  },
  {
   "cell_type": "code",
   "execution_count": 15,
   "id": "4b53efbf-8930-4d95-92a7-1c85f06451c5",
   "metadata": {},
   "outputs": [
    {
     "name": "stdout",
     "output_type": "stream",
     "text": [
      "Cantidad de codigos de categoria de caracteristicas unicos:\n",
      "73\n"
     ]
    }
   ],
   "source": [
    "print('Cantidad de codigos de categoria de caracteristicas unicos:')\n",
    "print(len(item_features.feature_category_id.unique()))"
   ]
  },
  {
   "cell_type": "code",
   "execution_count": 16,
   "id": "148cd4a8-8d1c-49fc-bb86-d85974d48276",
   "metadata": {},
   "outputs": [
    {
     "name": "stdout",
     "output_type": "stream",
     "text": [
      "Cantidad de codigos de valor de la categoria de caracteristicas unicos:\n",
      "890\n"
     ]
    }
   ],
   "source": [
    "print('Cantidad de codigos de valor de la categoria de caracteristicas unicos:')\n",
    "print(len(item_features.feature_value_id.unique()))"
   ]
  },
  {
   "cell_type": "code",
   "execution_count": 17,
   "id": "aa31b356-a6f4-48b7-bae5-96c3442aaedf",
   "metadata": {},
   "outputs": [],
   "source": [
    "cantidad_de_caracteristicas_por_item = item_features\\\n",
    "    .groupby(['item_id'], as_index=False)['feature_category_id'].count()\\\n",
    "    .sort_values(by='item_id', ascending=True)\\\n",
    "    .rename(columns={'feature_category_id': 'cantidad_de_caracteristicas'})\\\n",
    "    .reset_index(drop=True)"
   ]
  },
  {
   "cell_type": "code",
   "execution_count": 18,
   "id": "1ffb627d-2060-4f76-955c-a8035babf985",
   "metadata": {},
   "outputs": [
    {
     "data": {
      "text/html": [
       "<div>\n",
       "<style scoped>\n",
       "    .dataframe tbody tr th:only-of-type {\n",
       "        vertical-align: middle;\n",
       "    }\n",
       "\n",
       "    .dataframe tbody tr th {\n",
       "        vertical-align: top;\n",
       "    }\n",
       "\n",
       "    .dataframe thead th {\n",
       "        text-align: right;\n",
       "    }\n",
       "</style>\n",
       "<table border=\"1\" class=\"dataframe\">\n",
       "  <thead>\n",
       "    <tr style=\"text-align: right;\">\n",
       "      <th></th>\n",
       "      <th>item_id</th>\n",
       "      <th>cantidad_de_caracteristicas</th>\n",
       "    </tr>\n",
       "  </thead>\n",
       "  <tbody>\n",
       "    <tr>\n",
       "      <th>0</th>\n",
       "      <td>2</td>\n",
       "      <td>13</td>\n",
       "    </tr>\n",
       "    <tr>\n",
       "      <th>1</th>\n",
       "      <td>3</td>\n",
       "      <td>24</td>\n",
       "    </tr>\n",
       "    <tr>\n",
       "      <th>2</th>\n",
       "      <td>4</td>\n",
       "      <td>24</td>\n",
       "    </tr>\n",
       "    <tr>\n",
       "      <th>3</th>\n",
       "      <td>7</td>\n",
       "      <td>15</td>\n",
       "    </tr>\n",
       "    <tr>\n",
       "      <th>4</th>\n",
       "      <td>8</td>\n",
       "      <td>24</td>\n",
       "    </tr>\n",
       "    <tr>\n",
       "      <th>...</th>\n",
       "      <td>...</td>\n",
       "      <td>...</td>\n",
       "    </tr>\n",
       "    <tr>\n",
       "      <th>23686</th>\n",
       "      <td>28139</td>\n",
       "      <td>24</td>\n",
       "    </tr>\n",
       "    <tr>\n",
       "      <th>23687</th>\n",
       "      <td>28140</td>\n",
       "      <td>18</td>\n",
       "    </tr>\n",
       "    <tr>\n",
       "      <th>23688</th>\n",
       "      <td>28141</td>\n",
       "      <td>24</td>\n",
       "    </tr>\n",
       "    <tr>\n",
       "      <th>23689</th>\n",
       "      <td>28142</td>\n",
       "      <td>16</td>\n",
       "    </tr>\n",
       "    <tr>\n",
       "      <th>23690</th>\n",
       "      <td>28143</td>\n",
       "      <td>17</td>\n",
       "    </tr>\n",
       "  </tbody>\n",
       "</table>\n",
       "<p>23691 rows × 2 columns</p>\n",
       "</div>"
      ],
      "text/plain": [
       "       item_id  cantidad_de_caracteristicas\n",
       "0            2                           13\n",
       "1            3                           24\n",
       "2            4                           24\n",
       "3            7                           15\n",
       "4            8                           24\n",
       "...        ...                          ...\n",
       "23686    28139                           24\n",
       "23687    28140                           18\n",
       "23688    28141                           24\n",
       "23689    28142                           16\n",
       "23690    28143                           17\n",
       "\n",
       "[23691 rows x 2 columns]"
      ]
     },
     "execution_count": 18,
     "metadata": {},
     "output_type": "execute_result"
    }
   ],
   "source": [
    "cantidad_de_caracteristicas_por_item"
   ]
  },
  {
   "cell_type": "code",
   "execution_count": 19,
   "id": "9d14350c-38e4-4e4b-8bf8-59bfb5555811",
   "metadata": {},
   "outputs": [
    {
     "data": {
      "text/plain": [
       "count    23691.000000\n",
       "mean        19.912667\n",
       "std          5.130942\n",
       "min          2.000000\n",
       "25%         17.000000\n",
       "50%         20.000000\n",
       "75%         24.000000\n",
       "max         33.000000\n",
       "Name: cantidad_de_caracteristicas, dtype: float64"
      ]
     },
     "execution_count": 19,
     "metadata": {},
     "output_type": "execute_result"
    }
   ],
   "source": [
    "cantidad_de_caracteristicas_por_item.cantidad_de_caracteristicas.describe()"
   ]
  },
  {
   "cell_type": "code",
   "execution_count": 20,
   "id": "b3d2a3b0-fed8-4c40-9e73-45482de9a025",
   "metadata": {},
   "outputs": [
    {
     "data": {
      "image/png": "[encoded data removed]",
      "text/plain": [
       "<Figure size 1440x576 with 1 Axes>"
      ]
     },
     "metadata": {
      "needs_background": "light"
     },
     "output_type": "display_data"
    }
   ],
   "source": [
    "plt.figure(figsize=(20,8))\n",
    "Plot = sns.histplot(cantidad_de_caracteristicas_por_item[\"cantidad_de_caracteristicas\"], bins = 30)"
   ]
  },
  {
   "cell_type": "code",
   "execution_count": null,
   "id": "2c1d25cc-18b8-4062-817b-cd4a2ae7c104",
   "metadata": {},
   "outputs": [],
   "source": []
  },
  {
   "cell_type": "code",
   "execution_count": 92,
   "id": "c10f474e-5f9c-4179-a2de-d7a1924bcf33",
   "metadata": {},
   "outputs": [
    {
     "name": "stderr",
     "output_type": "stream",
     "text": [
      "100%|██████████| 23691/23691 [00:07<00:00, 3270.17it/s]\n"
     ]
    }
   ],
   "source": [
    "items_ids_list = []\n",
    "caracteristicas_repetidas_list = []\n",
    "\n",
    "for item_id in tqdm(list(item_features.item_id.unique())):\n",
    "    \n",
    "    lista_de_caracteriticas_del_item = list(item_features.loc[item_features.item_id == item_id].feature_category_id)\n",
    "    caracteristicas_repetidas = list(set([x for x in lista_de_caracteriticas_del_item if lista_de_caracteriticas_del_item.count(x) > 1]))\n",
    "    \n",
    "    \n",
    "    if len(caracteristicas_repetidas)>0:\n",
    "        \n",
    "        items_ids_list.append(item_id)\n",
    "        caracteristicas_repetidas_list.append(caracteristicas_repetidas)"
   ]
  },
  {
   "cell_type": "code",
   "execution_count": 95,
   "id": "91fa43bf-a133-4b67-b0c7-0bd50ebccad4",
   "metadata": {},
   "outputs": [
    {
     "data": {
      "text/html": [
       "<div>\n",
       "<style scoped>\n",
       "    .dataframe tbody tr th:only-of-type {\n",
       "        vertical-align: middle;\n",
       "    }\n",
       "\n",
       "    .dataframe tbody tr th {\n",
       "        vertical-align: top;\n",
       "    }\n",
       "\n",
       "    .dataframe thead th {\n",
       "        text-align: right;\n",
       "    }\n",
       "</style>\n",
       "<table border=\"1\" class=\"dataframe\">\n",
       "  <thead>\n",
       "    <tr style=\"text-align: right;\">\n",
       "      <th></th>\n",
       "      <th>item_id</th>\n",
       "      <th>feature_category_id_repetida</th>\n",
       "    </tr>\n",
       "  </thead>\n",
       "  <tbody>\n",
       "    <tr>\n",
       "      <th>0</th>\n",
       "      <td>10</td>\n",
       "      <td>[30]</td>\n",
       "    </tr>\n",
       "    <tr>\n",
       "      <th>1</th>\n",
       "      <td>11</td>\n",
       "      <td>[30]</td>\n",
       "    </tr>\n",
       "    <tr>\n",
       "      <th>2</th>\n",
       "      <td>18</td>\n",
       "      <td>[30]</td>\n",
       "    </tr>\n",
       "    <tr>\n",
       "      <th>3</th>\n",
       "      <td>30</td>\n",
       "      <td>[4]</td>\n",
       "    </tr>\n",
       "    <tr>\n",
       "      <th>4</th>\n",
       "      <td>35</td>\n",
       "      <td>[30]</td>\n",
       "    </tr>\n",
       "    <tr>\n",
       "      <th>...</th>\n",
       "      <td>...</td>\n",
       "      <td>...</td>\n",
       "    </tr>\n",
       "    <tr>\n",
       "      <th>4913</th>\n",
       "      <td>28123</td>\n",
       "      <td>[30]</td>\n",
       "    </tr>\n",
       "    <tr>\n",
       "      <th>4914</th>\n",
       "      <td>28125</td>\n",
       "      <td>[30]</td>\n",
       "    </tr>\n",
       "    <tr>\n",
       "      <th>4915</th>\n",
       "      <td>28126</td>\n",
       "      <td>[30]</td>\n",
       "    </tr>\n",
       "    <tr>\n",
       "      <th>4916</th>\n",
       "      <td>28133</td>\n",
       "      <td>[28, 30]</td>\n",
       "    </tr>\n",
       "    <tr>\n",
       "      <th>4917</th>\n",
       "      <td>28135</td>\n",
       "      <td>[30]</td>\n",
       "    </tr>\n",
       "  </tbody>\n",
       "</table>\n",
       "<p>4918 rows × 2 columns</p>\n",
       "</div>"
      ],
      "text/plain": [
       "      item_id feature_category_id_repetida\n",
       "0          10                         [30]\n",
       "1          11                         [30]\n",
       "2          18                         [30]\n",
       "3          30                          [4]\n",
       "4          35                         [30]\n",
       "...       ...                          ...\n",
       "4913    28123                         [30]\n",
       "4914    28125                         [30]\n",
       "4915    28126                         [30]\n",
       "4916    28133                     [28, 30]\n",
       "4917    28135                         [30]\n",
       "\n",
       "[4918 rows x 2 columns]"
      ]
     },
     "execution_count": 95,
     "metadata": {},
     "output_type": "execute_result"
    }
   ],
   "source": [
    "items_con_caracteristicas_repetidas = pd.DataFrame(\n",
    "    {'item_id': items_ids_list,\n",
    "     'feature_category_id_repetida': caracteristicas_repetidas_list\n",
    "    })\n",
    "\n",
    "items_con_caracteristicas_repetidas"
   ]
  },
  {
   "cell_type": "code",
   "execution_count": 102,
   "id": "0b704385-0d66-471c-9019-6453c018a8f1",
   "metadata": {},
   "outputs": [
    {
     "data": {
      "text/plain": [
       "[30]        4366\n",
       "[4]          272\n",
       "[28]         121\n",
       "[28, 30]      75\n",
       "[4, 30]       61\n",
       "[53]          16\n",
       "[46]           4\n",
       "[1]            2\n",
       "[4, 28]        1\n",
       "Name: feature_category_id_repetida, dtype: int64"
      ]
     },
     "execution_count": 102,
     "metadata": {},
     "output_type": "execute_result"
    }
   ],
   "source": [
    "items_con_caracteristicas_repetidas['feature_category_id_repetida'].astype(str).value_counts()"
   ]
  },
  {
   "cell_type": "code",
   "execution_count": 101,
   "id": "cef26b5e-96e8-446c-8ffd-9e57f1ba0ebd",
   "metadata": {},
   "outputs": [
    {
     "data": {
      "image/png": "[encoded data removed]",
      "text/plain": [
       "<Figure size 1080x576 with 1 Axes>"
      ]
     },
     "metadata": {
      "needs_background": "light"
     },
     "output_type": "display_data"
    }
   ],
   "source": [
    "plt.figure(figsize=(15,8))\n",
    "Plot = sns.histplot(items_con_caracteristicas_repetidas['feature_category_id_repetida'].astype(str), bins=2, discrete=True)"
   ]
  },
  {
   "cell_type": "code",
   "execution_count": null,
   "id": "8f7e85b7-a79b-46d7-be8b-3488ae12fe61",
   "metadata": {},
   "outputs": [],
   "source": []
  },
  {
   "cell_type": "code",
   "execution_count": null,
   "id": "08a34e6c-d269-4b66-b64b-970efe3f0cb8",
   "metadata": {},
   "outputs": [],
   "source": []
  },
  {
   "cell_type": "code",
   "execution_count": 65,
   "id": "e9653343-dd7f-4c7f-9abb-3a00492f7f5b",
   "metadata": {},
   "outputs": [
    {
     "data": {
      "text/plain": [
       "11"
      ]
     },
     "execution_count": 65,
     "metadata": {},
     "output_type": "execute_result"
    }
   ],
   "source": [
    "len(item_features.loc[item_features.feature_category_id == 5].feature_value_id.unique())"
   ]
  },
  {
   "cell_type": "code",
   "execution_count": 66,
   "id": "f7430c51-a255-48ae-ac7b-b33bb67c7cc3",
   "metadata": {},
   "outputs": [
    {
     "name": "stderr",
     "output_type": "stream",
     "text": [
      "<ipython-input-66-bd0401e8e9bb>:1: FutureWarning: In a future version of pandas all arguments of DataFrame.drop except for the argument 'labels' will be keyword-only\n",
      "  cantidad_de_valores_por_categorias_de_caracteristicas = pd.pivot_table(data=item_features, index='feature_category_id', aggfunc=pd.Series.nunique)\\\n"
     ]
    }
   ],
   "source": [
    "cantidad_de_valores_por_categorias_de_caracteristicas = pd.pivot_table(data=item_features, index='feature_category_id', aggfunc=pd.Series.nunique)\\\n",
    "    .reset_index(level=0)\\\n",
    "    .drop('item_id', 1)\\\n",
    "    .sort_values(by='feature_category_id', ascending=True)\\\n",
    "    .rename(columns={'feature_value_id': 'cantidad_de_valores_por_categoria_de_caracteristica'})"
   ]
  },
  {
   "cell_type": "code",
   "execution_count": 67,
   "id": "e1797aa5-7036-44ab-9447-8ee289fe52db",
   "metadata": {},
   "outputs": [
    {
     "data": {
      "text/html": [
       "<div>\n",
       "<style scoped>\n",
       "    .dataframe tbody tr th:only-of-type {\n",
       "        vertical-align: middle;\n",
       "    }\n",
       "\n",
       "    .dataframe tbody tr th {\n",
       "        vertical-align: top;\n",
       "    }\n",
       "\n",
       "    .dataframe thead th {\n",
       "        text-align: right;\n",
       "    }\n",
       "</style>\n",
       "<table border=\"1\" class=\"dataframe\">\n",
       "  <thead>\n",
       "    <tr style=\"text-align: right;\">\n",
       "      <th></th>\n",
       "      <th>feature_category_id</th>\n",
       "      <th>cantidad_de_valores_por_categoria_de_caracteristica</th>\n",
       "    </tr>\n",
       "  </thead>\n",
       "  <tbody>\n",
       "    <tr>\n",
       "      <th>0</th>\n",
       "      <td>1</td>\n",
       "      <td>6</td>\n",
       "    </tr>\n",
       "    <tr>\n",
       "      <th>1</th>\n",
       "      <td>2</td>\n",
       "      <td>25</td>\n",
       "    </tr>\n",
       "    <tr>\n",
       "      <th>2</th>\n",
       "      <td>3</td>\n",
       "      <td>5</td>\n",
       "    </tr>\n",
       "    <tr>\n",
       "      <th>3</th>\n",
       "      <td>4</td>\n",
       "      <td>16</td>\n",
       "    </tr>\n",
       "    <tr>\n",
       "      <th>4</th>\n",
       "      <td>5</td>\n",
       "      <td>11</td>\n",
       "    </tr>\n",
       "    <tr>\n",
       "      <th>...</th>\n",
       "      <td>...</td>\n",
       "      <td>...</td>\n",
       "    </tr>\n",
       "    <tr>\n",
       "      <th>68</th>\n",
       "      <td>69</td>\n",
       "      <td>29</td>\n",
       "    </tr>\n",
       "    <tr>\n",
       "      <th>69</th>\n",
       "      <td>70</td>\n",
       "      <td>7</td>\n",
       "    </tr>\n",
       "    <tr>\n",
       "      <th>70</th>\n",
       "      <td>71</td>\n",
       "      <td>11</td>\n",
       "    </tr>\n",
       "    <tr>\n",
       "      <th>71</th>\n",
       "      <td>72</td>\n",
       "      <td>25</td>\n",
       "    </tr>\n",
       "    <tr>\n",
       "      <th>72</th>\n",
       "      <td>73</td>\n",
       "      <td>2</td>\n",
       "    </tr>\n",
       "  </tbody>\n",
       "</table>\n",
       "<p>73 rows × 2 columns</p>\n",
       "</div>"
      ],
      "text/plain": [
       "    feature_category_id  cantidad_de_valores_por_categoria_de_caracteristica\n",
       "0                     1                                                  6  \n",
       "1                     2                                                 25  \n",
       "2                     3                                                  5  \n",
       "3                     4                                                 16  \n",
       "4                     5                                                 11  \n",
       "..                  ...                                                ...  \n",
       "68                   69                                                 29  \n",
       "69                   70                                                  7  \n",
       "70                   71                                                 11  \n",
       "71                   72                                                 25  \n",
       "72                   73                                                  2  \n",
       "\n",
       "[73 rows x 2 columns]"
      ]
     },
     "execution_count": 67,
     "metadata": {},
     "output_type": "execute_result"
    }
   ],
   "source": [
    "cantidad_de_valores_por_categorias_de_caracteristicas"
   ]
  },
  {
   "cell_type": "code",
   "execution_count": 68,
   "id": "01513a2a-891a-4e49-b87c-422bc241c324",
   "metadata": {},
   "outputs": [
    {
     "data": {
      "text/plain": [
       "count    73.000000\n",
       "mean     12.383562\n",
       "std      13.610280\n",
       "min       1.000000\n",
       "25%       4.000000\n",
       "50%       7.000000\n",
       "75%      16.000000\n",
       "max      67.000000\n",
       "Name: cantidad_de_valores_por_categoria_de_caracteristica, dtype: float64"
      ]
     },
     "execution_count": 68,
     "metadata": {},
     "output_type": "execute_result"
    }
   ],
   "source": [
    "cantidad_de_valores_por_categorias_de_caracteristicas.cantidad_de_valores_por_categoria_de_caracteristica.describe()"
   ]
  },
  {
   "cell_type": "code",
   "execution_count": 75,
   "id": "dd8f312f-5df0-4b69-ae39-f883649a29e2",
   "metadata": {},
   "outputs": [
    {
     "data": {
      "image/png": "[encoded data removed]",
      "text/plain": [
       "<Figure size 1440x576 with 1 Axes>"
      ]
     },
     "metadata": {
      "needs_background": "light"
     },
     "output_type": "display_data"
    }
   ],
   "source": [
    "plt.figure(figsize=(20,8))\n",
    "Plot = sns.histplot(cantidad_de_valores_por_categorias_de_caracteristicas[\"cantidad_de_valores_por_categoria_de_caracteristica\"], bins = 70)"
   ]
  },
  {
   "cell_type": "code",
   "execution_count": 77,
   "id": "027a594a-9694-434c-87f2-6bc70cb88cde",
   "metadata": {},
   "outputs": [
    {
     "data": {
      "text/plain": [
       "904"
      ]
     },
     "execution_count": 77,
     "metadata": {},
     "output_type": "execute_result"
    }
   ],
   "source": [
    "cantidad_de_valores_por_categorias_de_caracteristicas.cantidad_de_valores_por_categoria_de_caracteristica.sum()"
   ]
  },
  {
   "cell_type": "code",
   "execution_count": 78,
   "id": "dc6096da-4047-4c63-8d83-48ad1f49d085",
   "metadata": {},
   "outputs": [
    {
     "data": {
      "text/plain": [
       "977"
      ]
     },
     "execution_count": 78,
     "metadata": {},
     "output_type": "execute_result"
    }
   ],
   "source": [
    "73+904"
   ]
  },
  {
   "cell_type": "code",
   "execution_count": null,
   "id": "4c3bcde2-893f-47a9-9458-6627d4095977",
   "metadata": {},
   "outputs": [],
   "source": []
  },
  {
   "cell_type": "markdown",
   "id": "dd020f8a-8f4d-4e3d-8cec-60ee35a2830d",
   "metadata": {},
   "source": [
    "# Items candidatos"
   ]
  },
  {
   "cell_type": "code",
   "execution_count": 21,
   "id": "83579fde-de1f-4c0f-ad7f-956c1750d03b",
   "metadata": {},
   "outputs": [
    {
     "data": {
      "text/html": [
       "<div>\n",
       "<style scoped>\n",
       "    .dataframe tbody tr th:only-of-type {\n",
       "        vertical-align: middle;\n",
       "    }\n",
       "\n",
       "    .dataframe tbody tr th {\n",
       "        vertical-align: top;\n",
       "    }\n",
       "\n",
       "    .dataframe thead th {\n",
       "        text-align: right;\n",
       "    }\n",
       "</style>\n",
       "<table border=\"1\" class=\"dataframe\">\n",
       "  <thead>\n",
       "    <tr style=\"text-align: right;\">\n",
       "      <th></th>\n",
       "      <th>item_id</th>\n",
       "    </tr>\n",
       "  </thead>\n",
       "  <tbody>\n",
       "    <tr>\n",
       "      <th>0</th>\n",
       "      <td>4</td>\n",
       "    </tr>\n",
       "    <tr>\n",
       "      <th>1</th>\n",
       "      <td>8</td>\n",
       "    </tr>\n",
       "    <tr>\n",
       "      <th>2</th>\n",
       "      <td>9</td>\n",
       "    </tr>\n",
       "    <tr>\n",
       "      <th>3</th>\n",
       "      <td>19</td>\n",
       "    </tr>\n",
       "    <tr>\n",
       "      <th>4</th>\n",
       "      <td>20</td>\n",
       "    </tr>\n",
       "    <tr>\n",
       "      <th>...</th>\n",
       "      <td>...</td>\n",
       "    </tr>\n",
       "    <tr>\n",
       "      <th>4985</th>\n",
       "      <td>28128</td>\n",
       "    </tr>\n",
       "    <tr>\n",
       "      <th>4986</th>\n",
       "      <td>28131</td>\n",
       "    </tr>\n",
       "    <tr>\n",
       "      <th>4987</th>\n",
       "      <td>28132</td>\n",
       "    </tr>\n",
       "    <tr>\n",
       "      <th>4988</th>\n",
       "      <td>28133</td>\n",
       "    </tr>\n",
       "    <tr>\n",
       "      <th>4989</th>\n",
       "      <td>28137</td>\n",
       "    </tr>\n",
       "  </tbody>\n",
       "</table>\n",
       "<p>4990 rows × 1 columns</p>\n",
       "</div>"
      ],
      "text/plain": [
       "      item_id\n",
       "0           4\n",
       "1           8\n",
       "2           9\n",
       "3          19\n",
       "4          20\n",
       "...       ...\n",
       "4985    28128\n",
       "4986    28131\n",
       "4987    28132\n",
       "4988    28133\n",
       "4989    28137\n",
       "\n",
       "[4990 rows x 1 columns]"
      ]
     },
     "execution_count": 21,
     "metadata": {},
     "output_type": "execute_result"
    }
   ],
   "source": [
    "candidate_items"
   ]
  },
  {
   "cell_type": "code",
   "execution_count": 22,
   "id": "f5aa64b7-f9a3-47c1-8c57-e47fa2470b4b",
   "metadata": {},
   "outputs": [
    {
     "data": {
      "text/plain": [
       "4990"
      ]
     },
     "execution_count": 22,
     "metadata": {},
     "output_type": "execute_result"
    }
   ],
   "source": [
    "len(candidate_items.item_id.unique())"
   ]
  },
  {
   "cell_type": "code",
   "execution_count": 83,
   "id": "8aac9767-5a90-4f13-9310-993faf51dde5",
   "metadata": {},
   "outputs": [
    {
     "data": {
      "text/plain": [
       "True"
      ]
     },
     "execution_count": 83,
     "metadata": {},
     "output_type": "execute_result"
    }
   ],
   "source": [
    "all(item in list(item_features.item_id.unique()) for item in list(candidate_items.item_id))"
   ]
  },
  {
   "cell_type": "code",
   "execution_count": null,
   "id": "cd7a5f82-6548-4192-93fa-299b04ecbf64",
   "metadata": {},
   "outputs": [],
   "source": []
  }
 ],
 "metadata": {
  "kernelspec": {
   "display_name": "Python 3.8 (tensorflow-cpu)",
   "language": "python",
   "name": "tensorflow-cpu"
  },
  "language_info": {
   "codemirror_mode": {
    "name": "ipython",
    "version": 3
   },
   "file_extension": ".py",
   "mimetype": "text/x-python",
   "name": "python",
   "nbconvert_exporter": "python",
   "pygments_lexer": "ipython3",
   "version": "3.8.12"
  }
 },
 "nbformat": 4,
 "nbformat_minor": 5
}
